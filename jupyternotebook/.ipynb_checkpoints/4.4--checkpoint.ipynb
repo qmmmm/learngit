{
 "cells": [
  {
   "cell_type": "code",
   "execution_count": 1,
   "metadata": {},
   "outputs": [
    {
     "name": "stdout",
     "output_type": "stream",
     "text": [
      "Node(0)\n",
      "Node(1)\n",
      "Node(3)\n",
      "Node(4)\n",
      "Node(2)\n",
      "Node(5)\n"
     ]
    }
   ],
   "source": [
    "# 4.4 实现迭代器协议\n",
    "class Node:\n",
    "    def __init__(self, value):\n",
    "        self._value = value\n",
    "        self._children = []\n",
    "\n",
    "    def __repr__(self):\n",
    "        return 'Node({!r})'.format(self._value)\n",
    "\n",
    "    def add_child(self, node):\n",
    "        self._children.append(node)\n",
    "\n",
    "    def __iter__(self):\n",
    "        return iter(self._children)\n",
    "\n",
    "    def depth_first(self):\n",
    "        yield self\n",
    "        for c in self:\n",
    "            yield from c.depth_first()\n",
    "# depth_first()方法首先返回自己本身，并迭代每一个子节点，并通过调用子节点的depth_first()方法（使用yield from语句）返回对应元素\n",
    "# Example\n",
    "if __name__ == '__main__':\n",
    "    root = Node(0)\n",
    "    child1 = Node(1)\n",
    "    child2 = Node(2)\n",
    "    root.add_child(child1)\n",
    "    root.add_child(child2)\n",
    "    child1.add_child(Node(3))\n",
    "    child1.add_child(Node(4))\n",
    "    child2.add_child(Node(5))\n",
    "\n",
    "    for ch in root.depth_first():\n",
    "        print(ch)\n",
    "    # 在python2中会报错，Outputs Node(0), Node(1), Node(3), Node(4), Node(2), Node(5)"
   ]
  },
  {
   "cell_type": "code",
   "execution_count": 3,
   "metadata": {},
   "outputs": [
    {
     "name": "stdout",
     "output_type": "stream",
     "text": [
      "Node(0)\n",
      "Node(1)\n",
      "Node(3)\n",
      "Node(4)\n",
      "Node(2)\n",
      "Node(5)\n"
     ]
    }
   ],
   "source": [
    "# 使用一个关联迭代器类重新实现 depth_first() 方法\n",
    "class Node2:\n",
    "    def __init__(self, value):\n",
    "        self._value = value\n",
    "        self._children = []\n",
    "\n",
    "    def __repr__(self):\n",
    "        return 'Node({!r})'.format(self._value)\n",
    "\n",
    "    def add_child(self, node):\n",
    "        self._children.append(node)\n",
    "\n",
    "    def __iter__(self):\n",
    "        return iter(self._children)\n",
    "\n",
    "    def depth_first(self):\n",
    "        return DepthFirstIterator(self)\n",
    "\n",
    "\n",
    "class DepthFirstIterator(object):\n",
    "    '''\n",
    "    Depth-first traversal\n",
    "    '''\n",
    "\n",
    "    def __init__(self, start_node):\n",
    "        self._node = start_node\n",
    "        self._children_iter = None\n",
    "        self._child_iter = None\n",
    "\n",
    "    def __iter__(self):\n",
    "        return self\n",
    "\n",
    "    def __next__(self):\n",
    "        # Return myself if just started; create an iterator for children\n",
    "        if self._children_iter is None:\n",
    "            self._children_iter = iter(self._node)\n",
    "            return self._node\n",
    "        # If processing a child, return its next item\n",
    "        elif self._child_iter:\n",
    "            try:\n",
    "                nextchild = next(self._child_iter)\n",
    "                return nextchild\n",
    "            except StopIteration:\n",
    "                self._child_iter = None\n",
    "                return next(self)\n",
    "        # Advance to the next child and start its iteration\n",
    "        else:\n",
    "            self._child_iter = next(self._children_iter).depth_first()\n",
    "            return next(self)\n",
    "if __name__ == '__main__':\n",
    "    root = Node(0)\n",
    "    child1 = Node(1)\n",
    "    child2 = Node(2)\n",
    "    root.add_child(child1)\n",
    "    root.add_child(child2)\n",
    "    child1.add_child(Node(3))\n",
    "    child1.add_child(Node(4))\n",
    "    child2.add_child(Node(5))\n",
    "\n",
    "    for ch in root.depth_first():\n",
    "        print(ch)"
   ]
  },
  {
   "cell_type": "code",
   "execution_count": 4,
   "metadata": {},
   "outputs": [
    {
     "name": "stdout",
     "output_type": "stream",
     "text": [
      "4\n",
      "3\n",
      "2\n",
      "1\n"
     ]
    }
   ],
   "source": [
    "# 4.5 反向迭代\n",
    "# 使用内置的 reversed() 函数\n",
    "a=[1,2,3,4]\n",
    "for x in reversed(a):\n",
    "    print(x)"
   ]
  },
  {
   "cell_type": "code",
   "execution_count": 7,
   "metadata": {},
   "outputs": [
    {
     "name": "stdout",
     "output_type": "stream",
     "text": [
      "}\n",
      " \"nbformat_minor\": 2\n",
      " \"nbformat\": 4,\n",
      " },\n",
      "  }\n",
      "   \"version\": \"2.7.13\"\n",
      "   \"pygments_lexer\": \"ipython2\",\n",
      "   \"nbconvert_exporter\": \"python\",\n",
      "   \"name\": \"python\",\n",
      "   \"mimetype\": \"text/x-python\",\n",
      "   \"file_extension\": \".py\",\n",
      "   },\n",
      "    \"version\": 2\n",
      "    \"name\": \"ipython\",\n",
      "   \"codemirror_mode\": {\n",
      "  \"language_info\": {\n",
      "  },\n",
      "   \"name\": \"python2\"\n",
      "   \"language\": \"python\",\n",
      "   \"display_name\": \"Python 2\",\n",
      "  \"kernelspec\": {\n",
      " \"metadata\": {\n",
      " ],\n",
      "  }\n",
      "   \"source\": []\n",
      "   \"outputs\": [],\n",
      "   },\n",
      "    \"collapsed\": true\n",
      "   \"metadata\": {\n",
      "   \"execution_count\": null,\n",
      "   \"cell_type\": \"code\",\n",
      "  {\n",
      " \"cells\": [\n",
      "{\n"
     ]
    }
   ],
   "source": [
    "# 反向迭代仅仅当对象的大小可预先确定或者对象实现了 __reversed__() 的特殊方法时才能生效。 如果两者都不符合，那你必须先将对象转换为一个列表才行\n",
    "f=open('somefile')\n",
    "for line in reversed(list(f)):\n",
    "    print(line,end='')\n",
    "# 要注意的是如果可迭代对象元素很多的话，将其预先转换为一个列表要消耗大量的内存。"
   ]
  },
  {
   "cell_type": "code",
   "execution_count": 8,
   "metadata": {},
   "outputs": [
    {
     "name": "stdout",
     "output_type": "stream",
     "text": [
      "1\n",
      "2\n",
      "3\n",
      "4\n",
      "5\n",
      "6\n",
      "7\n",
      "8\n",
      "9\n",
      "10\n",
      "11\n",
      "12\n",
      "13\n",
      "14\n",
      "15\n",
      "16\n",
      "17\n",
      "18\n",
      "19\n",
      "20\n",
      "21\n",
      "22\n",
      "23\n",
      "24\n",
      "25\n",
      "26\n",
      "27\n",
      "28\n",
      "29\n",
      "30\n",
      "30\n",
      "29\n",
      "28\n",
      "27\n",
      "26\n",
      "25\n",
      "24\n",
      "23\n",
      "22\n",
      "21\n",
      "20\n",
      "19\n",
      "18\n",
      "17\n",
      "16\n",
      "15\n",
      "14\n",
      "13\n",
      "12\n",
      "11\n",
      "10\n",
      "9\n",
      "8\n",
      "7\n",
      "6\n",
      "5\n",
      "4\n",
      "3\n",
      "2\n",
      "1\n"
     ]
    }
   ],
   "source": [
    "# 在自定义类上实现 __reversed__() 方法来实现反向迭代,定义一个反向迭代器使代码很高效，因为不再需要将数据填充到一个列表中再去反向迭代这个列表。\n",
    "class Countdown:\n",
    "    def __init__(self, start):\n",
    "        self.start = start\n",
    "\n",
    "    # Forward iterator\n",
    "    def __iter__(self):\n",
    "        n = self.start\n",
    "        while n > 0:\n",
    "            yield n\n",
    "            n -= 1\n",
    "\n",
    "    # Reverse iterator\n",
    "    def __reversed__(self):\n",
    "        n = 1\n",
    "        while n <= self.start:\n",
    "            yield n\n",
    "            n += 1\n",
    "\n",
    "for rr in reversed(Countdown(30)):\n",
    "    print(rr)\n",
    "for rr in Countdown(30):\n",
    "    print(rr)"
   ]
  },
  {
   "cell_type": "code",
   "execution_count": 12,
   "metadata": {},
   "outputs": [
    {
     "name": "stdout",
     "output_type": "stream",
     "text": [
      "14:  \"kernelspec\": {\n",
      "15:   \"display_name\": \"Python 2\",\n",
      "16:   \"language\": \"python\",\n",
      "15:   \"display_name\": \"Python 2\",\n",
      "16:   \"language\": \"python\",\n",
      "17:   \"name\": \"python2\"\n",
      "19:  \"language_info\": {\n",
      "20:   \"codemirror_mode\": {\n",
      "21:    \"name\": \"ipython\",\n",
      "23:   },\n",
      "24:   \"file_extension\": \".py\",\n",
      "25:   \"mimetype\": \"text/x-python\",\n",
      "24:   \"file_extension\": \".py\",\n",
      "25:   \"mimetype\": \"text/x-python\",\n",
      "26:   \"name\": \"python\",\n",
      "25:   \"mimetype\": \"text/x-python\",\n",
      "26:   \"name\": \"python\",\n",
      "27:   \"nbconvert_exporter\": \"python\",\n",
      "26:   \"name\": \"python\",\n",
      "27:   \"nbconvert_exporter\": \"python\",\n",
      "28:   \"pygments_lexer\": \"ipython2\",\n"
     ]
    }
   ],
   "source": [
    "# 4.6 带有外部状态的生成器函数\n",
    "from collections import deque\n",
    "\n",
    "class linehistory:\n",
    "    def __init__(self, lines, histlen=3):\n",
    "        self.lines = lines\n",
    "        self.history = deque(maxlen=histlen)\n",
    "\n",
    "    def __iter__(self):\n",
    "        for lineno, line in enumerate(self.lines, 1):\n",
    "            self.history.append((lineno, line))\n",
    "            yield line\n",
    "\n",
    "    def clear(self):\n",
    "        self.history.clear()\n",
    "with open('somefile.txt') as f:\n",
    "    lines = linehistory(f)\n",
    "    for line in lines:\n",
    "        if 'python' in line:\n",
    "            for lineno, hline in lines.history:\n",
    "                print('{}:{}'.format(lineno, hline), end='')"
   ]
  },
  {
   "cell_type": "code",
   "execution_count": 13,
   "metadata": {},
   "outputs": [
    {
     "ename": "TypeError",
     "evalue": "'linehistory' object is not an iterator",
     "output_type": "error",
     "traceback": [
      "\u001b[0;31m---------------------------------------------------------------------------\u001b[0m",
      "\u001b[0;31mTypeError\u001b[0m                                 Traceback (most recent call last)",
      "\u001b[0;32m<ipython-input-13-11dab9f5e5e2>\u001b[0m in \u001b[0;36m<module>\u001b[0;34m()\u001b[0m\n\u001b[1;32m      2\u001b[0m \u001b[0mf\u001b[0m \u001b[0;34m=\u001b[0m \u001b[0mopen\u001b[0m\u001b[0;34m(\u001b[0m\u001b[0;34m'somefile.txt'\u001b[0m\u001b[0;34m)\u001b[0m\u001b[0;34m\u001b[0m\u001b[0m\n\u001b[1;32m      3\u001b[0m \u001b[0mlines\u001b[0m \u001b[0;34m=\u001b[0m \u001b[0mlinehistory\u001b[0m\u001b[0;34m(\u001b[0m\u001b[0mf\u001b[0m\u001b[0;34m)\u001b[0m\u001b[0;34m\u001b[0m\u001b[0m\n\u001b[0;32m----> 4\u001b[0;31m \u001b[0mnext\u001b[0m\u001b[0;34m(\u001b[0m\u001b[0mlines\u001b[0m\u001b[0;34m)\u001b[0m\u001b[0;34m\u001b[0m\u001b[0m\n\u001b[0m",
      "\u001b[0;31mTypeError\u001b[0m: 'linehistory' object is not an iterator"
     ]
    }
   ],
   "source": [
    "# 在 __iter__() 方法中定义你的生成器不会改变你任何的算法逻辑,而且也不会让代码异常复杂\n",
    "# 在迭代操作时不使用for循环，要先调用iter()函数,否则会出错吧，如下\n",
    "f = open('somefile.txt')\n",
    "lines = linehistory(f)\n",
    "next(lines)"
   ]
  },
  {
   "cell_type": "code",
   "execution_count": 14,
   "metadata": {},
   "outputs": [
    {
     "data": {
      "text/plain": [
       "'{\\n'"
      ]
     },
     "execution_count": 14,
     "metadata": {},
     "output_type": "execute_result"
    }
   ],
   "source": [
    "# Call iter() first, then start iterating\n",
    "it = iter(lines)\n",
    "next(it)"
   ]
  },
  {
   "cell_type": "code",
   "execution_count": 15,
   "metadata": {},
   "outputs": [
    {
     "data": {
      "text/plain": [
       "' \"cells\": [\\n'"
      ]
     },
     "execution_count": 15,
     "metadata": {},
     "output_type": "execute_result"
    }
   ],
   "source": [
    "next(it)"
   ]
  },
  {
   "cell_type": "code",
   "execution_count": 16,
   "metadata": {},
   "outputs": [
    {
     "ename": "TypeError",
     "evalue": "'generator' object is not subscriptable",
     "output_type": "error",
     "traceback": [
      "\u001b[0;31m---------------------------------------------------------------------------\u001b[0m",
      "\u001b[0;31mTypeError\u001b[0m                                 Traceback (most recent call last)",
      "\u001b[0;32m<ipython-input-16-09016e9959b9>\u001b[0m in \u001b[0;36m<module>\u001b[0;34m()\u001b[0m\n\u001b[1;32m      7\u001b[0m         \u001b[0mn\u001b[0m \u001b[0;34m+=\u001b[0m \u001b[0;36m1\u001b[0m\u001b[0;34m\u001b[0m\u001b[0m\n\u001b[1;32m      8\u001b[0m \u001b[0mc\u001b[0m \u001b[0;34m=\u001b[0m \u001b[0mcount\u001b[0m\u001b[0;34m(\u001b[0m\u001b[0;36m0\u001b[0m\u001b[0;34m)\u001b[0m\u001b[0;34m\u001b[0m\u001b[0m\n\u001b[0;32m----> 9\u001b[0;31m \u001b[0mc\u001b[0m\u001b[0;34m[\u001b[0m\u001b[0;36m10\u001b[0m\u001b[0;34m:\u001b[0m\u001b[0;36m20\u001b[0m\u001b[0;34m]\u001b[0m\u001b[0;34m\u001b[0m\u001b[0m\n\u001b[0m",
      "\u001b[0;31mTypeError\u001b[0m: 'generator' object is not subscriptable"
     ]
    }
   ],
   "source": [
    "# 4.7 迭代器切片\n",
    "# 想得到一个由迭代器生成的切片对象，但是标准切片操作并不能做到,因为它们的长度事先我们并不知道\n",
    "# 函数 itertools.islice() 正好适用于在迭代器和生成器上做切片操作\n",
    "def count(n):\n",
    "    while True:\n",
    "        yield n\n",
    "        n += 1\n",
    "c = count(0)\n",
    "c[10:20]"
   ]
  },
  {
   "cell_type": "code",
   "execution_count": 17,
   "metadata": {},
   "outputs": [
    {
     "name": "stdout",
     "output_type": "stream",
     "text": [
      "10\n",
      "11\n",
      "12\n",
      "13\n",
      "14\n",
      "15\n",
      "16\n",
      "17\n",
      "18\n",
      "19\n"
     ]
    }
   ],
   "source": [
    "import itertools\n",
    "for x in itertools.islice(c,10,20):\n",
    "    print(x)\n",
    "# islice会消耗掉传入的迭代器中的数据，但是迭代器是不可逆的，如果需要之后再次访问这个迭代器的话，就要先将里面的数据放到一个列表中。"
   ]
  },
  {
   "cell_type": "code",
   "execution_count": null,
   "metadata": {
    "collapsed": true
   },
   "outputs": [],
   "source": []
  }
 ],
 "metadata": {
  "kernelspec": {
   "display_name": "Python 3",
   "language": "python",
   "name": "python3"
  },
  "language_info": {
   "codemirror_mode": {
    "name": "ipython",
    "version": 3
   },
   "file_extension": ".py",
   "mimetype": "text/x-python",
   "name": "python",
   "nbconvert_exporter": "python",
   "pygments_lexer": "ipython3",
   "version": "3.6.1"
  }
 },
 "nbformat": 4,
 "nbformat_minor": 2
}
